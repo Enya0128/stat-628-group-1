{
 "cells": [
  {
   "cell_type": "code",
   "execution_count": 1,
   "metadata": {},
   "outputs": [],
   "source": [
    "data = read.csv(file = \"bodyfat.csv\")"
   ]
  },
  {
   "cell_type": "code",
   "execution_count": 2,
   "metadata": {},
   "outputs": [],
   "source": [
    "outliers0 = data[data$DENSITY<1,]$IDNO\n",
    "outliers1 = data[data$BODYFAT>40|data$BODYFAT<3,]$IDNO\n",
    "outliers2 = data[data$WEIGHT>250,]$IDNO\n",
    "outliers3 = data[data$HEIGHT<60,]$IDNO\n",
    "outliers4 = data[data$ADIPOSITY>35,]$IDNO\n",
    "outliers5 = data[data$NECK>45|data$NECK<32,]$IDNO\n",
    "outliers6 = data[data$CHEST>125,]$IDNO\n",
    "outliers7 = data[data$ABDOMEN>120,]$IDNO\n",
    "outliers8 = data[data$HIP>116,]$IDNO\n",
    "outliers9 = data[data$THIGH>72,]$IDNO\n",
    "outliers10 = data[data$KNEE>=45,]$IDNO\n",
    "outliers11 = data[data$ANKLE>27,]$IDNO\n",
    "outliers12 = data[data$BICEPS>40,]$IDNO\n",
    "outliers13 = data[data$FOREARM>34|data$FOREARM<24,]$IDNO\n",
    "outliers14 = data[data$WRIST>20.5|data$WRIST<16,]$IDNO"
   ]
  },
  {
   "cell_type": "code",
   "execution_count": 3,
   "metadata": {},
   "outputs": [],
   "source": [
    "outliers = unique(c(outliers0,outliers1,outliers2,outliers3,outliers4,outliers5,outliers6,outliers7,outliers8,\n",
    "                    outliers9,outliers10,outliers11,outliers12,outliers13,outliers14))"
   ]
  },
  {
   "cell_type": "code",
   "execution_count": 4,
   "metadata": {},
   "outputs": [],
   "source": [
    "fat = data[!(data$IDNO %in% outliers),]\n",
    "fat$IDNO = c()"
   ]
  },
  {
   "cell_type": "code",
   "execution_count": 5,
   "metadata": {},
   "outputs": [],
   "source": [
    "standardize = function(data){\n",
    "    temp = data - mean(data)\n",
    "    temp = temp / sd(data)\n",
    "    temp\n",
    "}"
   ]
  },
  {
   "cell_type": "code",
   "execution_count": 6,
   "metadata": {},
   "outputs": [],
   "source": [
    "fat_new = apply(fat[,3:16], 2, standardize)\n",
    "fat_new = data.frame(fat_new)"
   ]
  },
  {
   "cell_type": "code",
   "execution_count": 7,
   "metadata": {},
   "outputs": [],
   "source": [
    "fat_new$BODYFAT = fat$BODYFAT\n",
    "fat_new$ratio = fat$ABDOMEN/fat$HIP\n",
    "fat_new$ratio = standardize(fat_new$ratio)"
   ]
  },
  {
   "cell_type": "code",
   "execution_count": 8,
   "metadata": {},
   "outputs": [
    {
     "name": "stderr",
     "output_type": "stream",
     "text": [
      "Loading required package: Matrix\n",
      "Loading required package: foreach\n",
      "Loaded glmnet 2.0-16\n",
      "\n"
     ]
    }
   ],
   "source": [
    "library(glmnet)"
   ]
  },
  {
   "cell_type": "code",
   "execution_count": 9,
   "metadata": {},
   "outputs": [],
   "source": [
    "x= as.matrix(fat_new[,c(1:14)])\n",
    "y = fat_new[ ,15]\n",
    "fit <- glmnet(x, y, family = \"gaussian\", nlambda = 50, alpha = 1,standardize = T)"
   ]
  },
  {
   "cell_type": "code",
   "execution_count": 10,
   "metadata": {},
   "outputs": [
    {
     "data": {
      "text/plain": [
       "\n",
       "Call:  glmnet(x = x, y = y, family = \"gaussian\", alpha = 1, nlambda = 50,      standardize = T) \n",
       "\n",
       "      Df   %Dev   Lambda\n",
       " [1,]  0 0.0000 5.684000\n",
       " [2,]  1 0.1988 4.710000\n",
       " [3,]  1 0.3352 3.903000\n",
       " [4,]  1 0.4290 3.234000\n",
       " [5,]  1 0.4933 2.680000\n",
       " [6,]  1 0.5375 2.221000\n",
       " [7,]  1 0.5678 1.840000\n",
       " [8,]  1 0.5887 1.525000\n",
       " [9,]  1 0.6030 1.264000\n",
       "[10,]  2 0.6217 1.047000\n",
       "[11,]  2 0.6379 0.867700\n",
       "[12,]  2 0.6491 0.719000\n",
       "[13,]  3 0.6636 0.595800\n",
       "[14,]  4 0.6745 0.493700\n",
       "[15,]  4 0.6824 0.409100\n",
       "[16,]  4 0.6878 0.339000\n",
       "[17,]  4 0.6914 0.280900\n",
       "[18,]  4 0.6940 0.232800\n",
       "[19,]  5 0.6962 0.192900\n",
       "[20,]  6 0.6986 0.159800\n",
       "[21,]  6 0.7004 0.132400\n",
       "[22,]  7 0.7018 0.109700\n",
       "[23,]  8 0.7028 0.090940\n",
       "[24,]  9 0.7042 0.075360\n",
       "[25,] 12 0.7060 0.062450\n",
       "[26,] 12 0.7076 0.051740\n",
       "[27,] 12 0.7086 0.042880\n",
       "[28,] 12 0.7093 0.035530\n",
       "[29,] 12 0.7098 0.029440\n",
       "[30,] 12 0.7101 0.024400\n",
       "[31,] 12 0.7104 0.020220\n",
       "[32,] 13 0.7105 0.016750\n",
       "[33,] 13 0.7107 0.013880\n",
       "[34,] 13 0.7108 0.011500\n",
       "[35,] 13 0.7109 0.009532\n",
       "[36,] 14 0.7109 0.007898\n",
       "[37,] 14 0.7111 0.006545\n",
       "[38,] 14 0.7111 0.005423\n",
       "[39,] 14 0.7112 0.004494\n",
       "[40,] 14 0.7112 0.003724\n",
       "[41,] 14 0.7113 0.003086\n",
       "[42,] 14 0.7113 0.002557"
      ]
     },
     "metadata": {},
     "output_type": "display_data"
    }
   ],
   "source": [
    "fit"
   ]
  },
  {
   "cell_type": "code",
   "execution_count": 11,
   "metadata": {},
   "outputs": [
    {
     "data": {
      "text/plain": [
       "15 x 2 sparse Matrix of class \"dgCMatrix\"\n",
       "                     1           2\n",
       "(Intercept) 18.5875000 18.58750000\n",
       "AGE          .          0.76610310\n",
       "WEIGHT       .         -0.72300651\n",
       "HEIGHT      -0.5693764 -0.13993735\n",
       "ADIPOSITY    .          0.95639942\n",
       "NECK         .         -0.81148358\n",
       "CHEST        .         -0.92262266\n",
       "ABDOMEN      5.0732044  7.28248886\n",
       "HIP          .         -0.93155842\n",
       "THIGH        .          0.91642879\n",
       "KNEE         .         -0.26095440\n",
       "ANKLE        .         -0.06418144\n",
       "BICEPS       .          0.22993091\n",
       "FOREARM      .          0.46682628\n",
       "WRIST        .         -1.31416751"
      ]
     },
     "metadata": {},
     "output_type": "display_data"
    }
   ],
   "source": [
    "coef(fit, s=c(fit$lambda[12],3.5e-4))"
   ]
  },
  {
   "cell_type": "code",
   "execution_count": null,
   "metadata": {},
   "outputs": [],
   "source": []
  }
 ],
 "metadata": {
  "kernelspec": {
   "display_name": "R",
   "language": "R",
   "name": "ir"
  },
  "language_info": {
   "codemirror_mode": "r",
   "file_extension": ".r",
   "mimetype": "text/x-r-source",
   "name": "R",
   "pygments_lexer": "r",
   "version": "3.6.1"
  }
 },
 "nbformat": 4,
 "nbformat_minor": 2
}
