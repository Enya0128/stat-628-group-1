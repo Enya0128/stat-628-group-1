{
 "cells": [
  {
   "cell_type": "markdown",
   "metadata": {},
   "source": [
    "# Summary\n",
    "##### Yuchen Zeng, Jiantong Wang, Ruixuan Zhao, Hao Pan"
   ]
  },
  {
   "cell_type": "markdown",
   "metadata": {},
   "source": [
    "## 1.  Introduction"
   ]
  },
  {
   "cell_type": "markdown",
   "metadata": {},
   "source": [
    "Body fat percentage can be defined as mass of fat divided by total mass. Body fat percentage is a very important index for people to evaluate their health condition, health costs and even happiness. Though it's important, it's not easy to compute as it's impossible to get mass of fat. Folks(1956) came up an idea to estimate body fat based on body density, density of lean body tissue and density of fat tissue, which do made computation possible. Katch and McArdle (1977) and Wilmore (1976) gave an good estimation of density of lean body tissue and density of fat tissue. The only problem left is how to estimate body density, which is costly to get precise estimation.Thus, it would be great if we can come up with either a new way to estimate body fat percentage or an economical way to estimate body density.\n",
    "\n",
    "Finally, our group built two models that can estimate body fat percentage fairly accurate with very limited body information. The first model we bulit estimates body fat percentage directly with abdomen circumference and weight. The second one estimates the reciprocal of body density to estimate body fat percentage with abdomen circumference and height"
   ]
  },
  {
   "cell_type": "markdown",
   "metadata": {},
   "source": [
    "## 2. Background information"
   ]
  },
  {
   "cell_type": "markdown",
   "metadata": {},
   "source": [
    "More and more people focus on their health, and one of the ways to assess health is estimating percentage of body fat.  For a long time, people used various methods to estimate the percentage of body fat. Some people use predictive equations for body fat using body circumference measurements and skin-fold measurements. For example, the \"Siri's equation\" is\n",
    "\n",
    "Percentage of Body Fat = 495/density - 450\n",
    "\n",
    "However, it is difficult for doctors to determine body volume (body density) by underwater submersion. We should find a way to determine percentage of body fat by commonly available measurements.  The dataset BodyFat.csv contains 252 records of  available measurements: age, weight, height, adiposity, neck circumference, chest circumference, abdomen circumference, hip circumference, thigh circumference, knee circumference, ankle circumference, biceps circumference, forearm circumference and wrist circumference. Also, we have density determined from underwater weighing and percentage of body fat from Siri's (1956) equation. We should use the data to construct simple and robust statistical model to predict percentage of body fat."
   ]
  },
  {
   "cell_type": "markdown",
   "metadata": {},
   "source": [
    "## 3. Data processing"
   ]
  },
  {
   "cell_type": "code",
   "execution_count": 1,
   "metadata": {},
   "outputs": [
    {
     "name": "stderr",
     "output_type": "stream",
     "text": [
      "Warning message in file(file, \"rt\"):\n",
      "\"无法打开文件'./data/BodyFat.csv': No such file or directory\""
     ]
    },
    {
     "ename": "ERROR",
     "evalue": "Error in file(file, \"rt\"): 无法打开链结\n",
     "output_type": "error",
     "traceback": [
      "Error in file(file, \"rt\"): 无法打开链结\nTraceback:\n",
      "1. read.csv(\"./data/BodyFat.csv\", sep = \",\")",
      "2. read.table(file = file, header = header, sep = sep, quote = quote, \n .     dec = dec, fill = fill, comment.char = comment.char, ...)",
      "3. file(file, \"rt\")"
     ]
    }
   ],
   "source": [
    "bf = read.csv(\"./data/BodyFat.csv\",sep=\",\")\n",
    "head(bf)"
   ]
  },
  {
   "cell_type": "markdown",
   "metadata": {},
   "source": [
    "First, because we already know the relationship between density and body fat percentage which is\n",
    "\n",
    "$$ \n",
    "BodyFat = \\frac{495}{Density}-450.\n",
    "$$\n",
    "\n",
    "We compared the predicted body fat which deduced from density and the input body fat and check which one is more reasonable. By this way, we could detect some potential outliers. "
   ]
  },
  {
   "cell_type": "code",
   "execution_count": null,
   "metadata": {},
   "outputs": [],
   "source": [
    "bf$pd.bf = 495/bf$DENSITY-450; ol.bf = order(abs(bf$pd.bf-bf$BODYFAT), decreasing = TRUE)[1:5]\n",
    "bf$outlier = 1:dim(bf)[1] %in% ol.bf; bf[ol.bf,c(\"BODYFAT\",\"pd.bf\")]"
   ]
  },
  {
   "cell_type": "markdown",
   "metadata": {},
   "source": [
    "![Outlier detection](./image/outlier_lm.png)"
   ]
  },
  {
   "cell_type": "markdown",
   "metadata": {},
   "source": [
    "The potential outliers are listed as above and shown in the figures above (left). Obviously, according to the 96th observation, the predicted body fat is impossible, we keep the original body fat percentage because the predicted body fat is too extreme to happen. As for 48th, 76th and 216th observation, we cannot tell which input, body fat or density is correct, so we delete them strightly. As for 182nd observation, both predicted body fat and input body fat are impossible to happen, we delete it as an outlier."
   ]
  },
  {
   "cell_type": "code",
   "execution_count": null,
   "metadata": {},
   "outputs": [],
   "source": [
    "ol.bf = c(48,76,182,216)"
   ]
  },
  {
   "cell_type": "markdown",
   "metadata": {},
   "source": [
    "Since we already know the formula to compute the adiposity by using weight and height, we use the weight and height to calculate the adiposity.\n",
    "$$\n",
    "adiposity = \\frac{0.4547*weight}{(height*0.025)^2}\n",
    "$$"
   ]
  },
  {
   "cell_type": "code",
   "execution_count": null,
   "metadata": {},
   "outputs": [],
   "source": [
    "bf$pd.bmi = 0.45359237*bf$WEIGHT/(bf$HEIGHT*0.0254)^2\n",
    "ol.bmi = order(abs(bf$pd.bmi-bf$ADIPOSITY), decreasing = TRUE)[1:3]\n",
    "bf$outlier = 1:dim(bf)[1] %in% ol.bmi; bf[ol.bmi,c(\"ADIPOSITY\",\"pd.bmi\",\"WEIGHT\",\"HEIGHT\")]"
   ]
  },
  {
   "cell_type": "markdown",
   "metadata": {},
   "source": [
    "The potential outlier detected in this way is shown as the table and figure (right) above.  Noticed the estimated adiposity of the 42rd sample is apparently problematic. So we took a further look at this sample, and found the extremely short height. We use known adiposity to estimate the height 69.45 and replace the original data. As for 163rd and 221st samples, we cannot tell which element is problematic, so we delete these two observations. "
   ]
  },
  {
   "cell_type": "code",
   "execution_count": null,
   "metadata": {},
   "outputs": [],
   "source": [
    "ol.bmi = c(163,221);bf[42,\"HEIGHT\"] = 69.45;bf1 = bf[-c(ol.bf,ol.bmi), c(2,4:17)]"
   ]
  },
  {
   "cell_type": "markdown",
   "metadata": {},
   "source": [
    "Now look at the boxplot to see other potential outliers."
   ]
  },
  {
   "cell_type": "markdown",
   "metadata": {},
   "source": [
    "![](./image/boxplot.jpeg)"
   ]
  },
  {
   "cell_type": "markdown",
   "metadata": {},
   "source": [
    "These points all are potential outliers, but looking into the samples, we cannot delete them curtly."
   ]
  },
  {
   "cell_type": "markdown",
   "metadata": {},
   "source": [
    "## 4. Model motivation and selection\n",
    "\n",
    "We came up with 3 idea to fit our model, the following part is how we fit and choose the models."
   ]
  },
  {
   "cell_type": "markdown",
   "metadata": {},
   "source": [
    "### Model 1"
   ]
  },
  {
   "cell_type": "markdown",
   "metadata": {},
   "source": [
    "We borrowed some idea from US Army, they have a formula for men to calculate body fat, it is like this:  \n",
    "\n",
    "$$\n",
    "Body~Fat \\sim \\log{(Waist - Neck)} + \\log{(Height)}\n",
    "$$\n",
    "\n",
    "We borrowed this idea. But we don't have data of waist, but we thought abdomen is not much differenrt from waist, so we just used abdomen instead of waist."
   ]
  },
  {
   "cell_type": "code",
   "execution_count": null,
   "metadata": {},
   "outputs": [],
   "source": [
    "model_Army <- lm(BODYFAT ~ log(ABDOMEN - NECK) + log(HEIGHT),data=bf1)"
   ]
  },
  {
   "cell_type": "markdown",
   "metadata": {},
   "source": [
    "From the results, we can get the adjusted R square is 0.7179, which is ideal. But the model requires 3 variables as input. It is kind or more complex than model_Tsuna. So we tried to dismiss NECK in our model, and see what would happen."
   ]
  },
  {
   "cell_type": "code",
   "execution_count": null,
   "metadata": {},
   "outputs": [],
   "source": [
    "model_1 <- lm(BODYFAT ~ log(ABDOMEN) + log(HEIGHT),data=bf1)"
   ]
  },
  {
   "cell_type": "markdown",
   "metadata": {},
   "source": [
    "From the result above, we could see that although we exclude Neck from our model, but the results are not getting so much worse. The adjusted R square is 0.6971, which is also fairly acceptable. So we just exclude Neck from our model.\n",
    "\n",
    "However for each of the three models, point 39 seems to be a leverage point and if you take a glance on data of 39, you would also consider 39 as an outlier."
   ]
  },
  {
   "cell_type": "markdown",
   "metadata": {},
   "source": [
    "### Model 2"
   ]
  },
  {
   "cell_type": "markdown",
   "metadata": {},
   "source": [
    "For we already know that body fat is calculated by the body density, so our aim could be try to fit a model to predict density.  \n",
    "\n",
    "We came up with two solutions:  \n",
    "\n",
    "Solution from Hao:  Roughly, a guy could be regard as a cylinder, so a guy's density could roughly be drecribed as:\n",
    "\n",
    "$$\n",
    "\\begin{aligned}\n",
    "\\rho &= \\frac{Weight}{Volume}=\\frac{Weight}{Height\\times Area}=\\frac{Weight}{(Height)^2}\\times \\frac{Height}{\\pi R^2}\\\\\n",
    "&=BMI\\times\\frac{Height}{\\pi\\times(\\frac{Abdomen}{4\\pi})^2}\\\\\n",
    "\\end{aligned}\n",
    "$$\n",
    "\n",
    "And we could find that there is a linear relationship between BMI and Abdomen, so we could fit a regression for BMI on abdomen."
   ]
  },
  {
   "cell_type": "code",
   "execution_count": null,
   "metadata": {},
   "outputs": [],
   "source": [
    "model_BMI_ABDOMEN <- lm(ADIPOSITY ~ ABDOMEN,data = bf1)\n",
    "bf1$h_1 = 1/(bf1$HEIGHT);bf1$dh_1 = 1/(bf1$ABDOMEN * bf1$HEIGHT);bf1$d_h1 = bf1$ABDOMEN / bf1$HEIGHT\n",
    "model_Tsuna_V1 <- lm(BODYFAT ~ dh_1 + d_h1 + h_1,data=bf1)"
   ]
  },
  {
   "cell_type": "markdown",
   "metadata": {},
   "source": [
    "Then we could use abdomen to represent BMI, and further simplify our formula: \n",
    "\n",
    "$$\n",
    "\\begin{aligned}\n",
    "&\\rho=(k\\times Abdomen +b) \\frac{Height}{\\frac{(Abdomen)^2}{16\\pi}}\\\\\n",
    "& \\frac{1}{\\rho}=\\frac{\\frac{1}{16\\pi}\\times(Abdomen)^2}{(k\\times Abdomen+b)Height}\\\\\n",
    "& \\frac{1}{\\rho}=\\frac{1}{16\\pi k^2}[\\frac{(k\\times Abdomen+b)}{Height}+\\frac{b^2}{(k\\times Abdomen+b)Height}-\\frac{2b}{Height}]\\\\\n",
    "&Body~fat\\sim \\frac{1}{\\rho} \\sim \\frac{(k\\times Abdomen+b)}{Height}+\\frac{b^2}{(k\\times Abdomen+b)Height}-\\frac{2b}{Height}\n",
    "\\end{aligned}\n",
    "$$\n",
    "\n",
    "For $(k\\times Abdomen+b)$, is BMI based on the relationship with Abdomen. So we named it as BMI.Abdomen. I also tried just simply use adoposity here, but the adjusted R square is smaller than use abdomen here.  "
   ]
  },
  {
   "cell_type": "code",
   "execution_count": null,
   "metadata": {},
   "outputs": [],
   "source": [
    "bf1$BMI.ABDOMEN <- 0.308909*bf1$ABDOMEN - 3.162932;bf1$HEIGHT.CM <- bf1$HEIGHT * 2.54\n",
    "bf1$h_2 = 1/(bf1$HEIGHT.CM);bf1$dh_2 = 1/(bf1$BMI.ABDOMEN * bf1$HEIGHT.CM);bf1$d_h2 = bf1$BMI.ABDOMEN / bf1$HEIGHT.CM\n",
    "model_Tsuna_V2 <- lm(BODYFAT ~ dh_2 + d_h2 + h_2,data = bf1)\n",
    "\n",
    "bf1$h_3 = 1/(bf1$HEIGHT.CM);bf1$dh_3 = 1/(bf1$ADIPOSITY * bf1$HEIGHT.CM);bf1$d_h3 = bf1$ADIPOSITY / bf1$HEIGHT.CM\n",
    "model_Tsuna_V3 <- lm(BODYFAT ~ dh_3 + d_h3 + h_3, data = bf1)"
   ]
  },
  {
   "cell_type": "markdown",
   "metadata": {},
   "source": [
    "Here, we found that the adjusted R-square of model using Adiposity is smaller than model using Abdomen. I think it is kind of caused by that the Adiposity is reied on many other datas, which may accumulate the variances. So just use Abdomen instead of adiposity.\n",
    "Also, we could also try to just ignore the transformation and simply run a regression like this:  \n",
    "$$\n",
    "BODYFAT \\sim \\frac{1}{HEIGHT}+ \\frac{1}{ABDOMEN\\times HEIGHT} + \\frac{ABDOMEN}{HEIGHT} \n",
    "$$"
   ]
  },
  {
   "cell_type": "markdown",
   "metadata": {},
   "source": [
    "### Model 3"
   ]
  },
  {
   "cell_type": "code",
   "execution_count": null,
   "metadata": {},
   "outputs": [],
   "source": [
    "exhaus = read.csv(\"./data/step_result.csv\");exhaus[c(1,14,15,16,105,106),]"
   ]
  },
  {
   "cell_type": "markdown",
   "metadata": {},
   "source": [
    "By using exhaustion method to listing all possible linear models, we found the model using weight and abdomen as predictors is not only simple but also fit our data fairly well. Looking at the single-variable linear model, the one that performs best is using abdomen as predictor with R square equal to 0.65. And the one which perfroms best using two variables is taking weight and abdomen as predictors. The R square has been improved by about 0.06. However, as weight is a commonly used measurement that almost everyone knew their weight, adding weight as a predictor is good way to improve the accuracy of our model. According to the table above, if we still want to add a new predictor, wrist would be the best choice. However, the R square can only be improved by less than 0.01. So we select $bodyfat\\sim abdomen+weight$ as the best linear model."
   ]
  },
  {
   "cell_type": "markdown",
   "metadata": {},
   "source": [
    "### Detect outliers"
   ]
  },
  {
   "cell_type": "markdown",
   "metadata": {},
   "source": [
    "We use three criterions (leverage, diffit and cook's distance) to find the potential outliers. "
   ]
  },
  {
   "cell_type": "markdown",
   "metadata": {},
   "source": [
    "![](./image/outlier3_model.png)"
   ]
  },
  {
   "cell_type": "markdown",
   "metadata": {},
   "source": [
    "According to the graphs above, we look into the 39th observation and find this individual is a extreme sample. Deleting it would not affect the prediction of our model on common individuals. So we remove it from our dataset."
   ]
  },
  {
   "cell_type": "code",
   "execution_count": null,
   "metadata": {},
   "outputs": [],
   "source": [
    "bf1 = bf1[-39,]"
   ]
  },
  {
   "cell_type": "markdown",
   "metadata": {},
   "source": [
    "### Model performance comparision"
   ]
  },
  {
   "cell_type": "code",
   "execution_count": null,
   "metadata": {},
   "outputs": [],
   "source": [
    "source('mse_cross_validation.R'); jw = summary(model_Army)\n",
    "cat(\"Model 1: \");MSE_Cal(BODYFAT~log(HEIGHT)+log(ABDOMEN), fold = 10, data = bf1)"
   ]
  },
  {
   "cell_type": "code",
   "execution_count": null,
   "metadata": {},
   "outputs": [],
   "source": [
    "data.frame(\"Adjusted R square\" = jw$adj.r.squared, \"Residual Standard error\" = jw$r.squared , \"F-statistic\" = jw$fstatistic[1])"
   ]
  },
  {
   "cell_type": "code",
   "execution_count": null,
   "metadata": {},
   "outputs": [],
   "source": [
    "ph = summary(model_Tsuna_V1)\n",
    "cat(\"Model 2: \"); MSE_Cal(BODYFAT ~ dh_1 + d_h1 + h_1, fold = 10, data = bf1)"
   ]
  },
  {
   "cell_type": "code",
   "execution_count": null,
   "metadata": {},
   "outputs": [],
   "source": [
    "data.frame(\"Adjusted R square\" = ph$adj.r.squared, \"Residual Standard error\" = 4.069 , \"F-statistic\" = ph$fstatistic[1])"
   ]
  },
  {
   "cell_type": "code",
   "execution_count": null,
   "metadata": {},
   "outputs": [],
   "source": [
    "zyc = summary(model_1)\n",
    "cat(\"Model 3: \"); MSE_Cal(BODYFAT ~ ABDOMEN + WEIGHT, fold = 10, data = bf1)"
   ]
  },
  {
   "cell_type": "code",
   "execution_count": null,
   "metadata": {},
   "outputs": [],
   "source": [
    "data.frame(\"Adjusted R square\" = zyc$adj.r.squared, \"Residual Standard error\" = 4.016 , \"F-statistic\" = zyc$fstatistic[1])"
   ]
  },
  {
   "cell_type": "markdown",
   "metadata": {},
   "source": [
    "From the results, we could find Model 2 and Model 3 are slightly better than Model1 due to slightly lower standard error of MSE. So\n",
    "we adopt Model 2 and Model 3. In this way, one can choose to input abdomen and height, or abdomen and weight to compute\n",
    "body fat. Our shiny will compute estimated body fat percentage based on what's input."
   ]
  },
  {
   "cell_type": "markdown",
   "metadata": {},
   "source": [
    "## 5. Model intepretation"
   ]
  },
  {
   "cell_type": "markdown",
   "metadata": {},
   "source": [
    "### Model diagnostics"
   ]
  },
  {
   "cell_type": "markdown",
   "metadata": {},
   "source": [
    "![](./image/diag_op.png) ![](./image/diag_tsuna.png)"
   ]
  },
  {
   "cell_type": "markdown",
   "metadata": {},
   "source": [
    "From the diagnostics plot, we could see the two models fit well. The residual follows a normal distribution and costant variance assumption holds."
   ]
  },
  {
   "cell_type": "markdown",
   "metadata": {},
   "source": [
    "## 6. Conclusion"
   ]
  },
  {
   "cell_type": "markdown",
   "metadata": {},
   "source": [
    "After deleting 39th observation, our final proposed models to predict bodyfat% are: \n",
    "![](./image/conclusion.png)"
   ]
  },
  {
   "cell_type": "markdown",
   "metadata": {},
   "source": [
    "**Model Interpretations:**\n",
    "\n",
    "Model (1) implies that, how will a man's body fat percentage change rely not only on his height, but also on his current Abdomen, i.e., the relationship between body fat percentage and abdomen is non-linear. For example, if a man with an abdomen circumference of 85 cms and a height of 65 inches, his body fat percentage will increase by about 3.93% (7.19%), if his abdomen circumference grows by 5 (10) cms. \n",
    "\n",
    "Model (2) implies that, on average, a man's body fat percentage will increase by 8.99% if his abdomen circumference grows by 10 cms and his body fat percentage will increase by 1.24% if he gains 10 lbs.\n",
    "\n",
    "**Strength**: \n",
    "The model we use is quite simple, which only requires two variables as input but gives a fairly good R square. Moreover, it also provides us some flexibility that you can either input abdomen and height or abdomen and weight.\n",
    "\n",
    "**Weakness**: \n",
    "The confidence interval is kind of wide."
   ]
  },
  {
   "cell_type": "markdown",
   "metadata": {},
   "source": [
    "## 7. Contribution\n",
    "- **Jiantong Wang:** Data preprocessing, Model 1, Model 3, Model selection, Summary writing\n",
    "- **Ruixuan Zhao :** Data preprocessing, Model 2, Slides design, Summary writing\n",
    "- **Yuchen Zeng  :** Data preprocessing, Model 2, Model selection, Summary writing, Shinny design, Github organization\n",
    "- **Hao Pan      :** Data preprocessing, Model 3, Slides design, Summary writing"
   ]
  },
  {
   "cell_type": "code",
   "execution_count": null,
   "metadata": {},
   "outputs": [],
   "source": []
  }
 ],
 "metadata": {
  "kernelspec": {
   "display_name": "R",
   "language": "R",
   "name": "ir"
  },
  "language_info": {
   "codemirror_mode": "r",
   "file_extension": ".r",
   "mimetype": "text/x-r-source",
   "name": "R",
   "pygments_lexer": "r",
   "version": "3.6.1"
  }
 },
 "nbformat": 4,
 "nbformat_minor": 2
}
